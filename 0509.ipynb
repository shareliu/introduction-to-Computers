{
  "nbformat": 4,
  "nbformat_minor": 0,
  "metadata": {
    "colab": {
      "name": "0509.ipynb",
      "provenance": [],
      "authorship_tag": "ABX9TyOzXS4iuEYNvgrBfXYUgpbt",
      "include_colab_link": true
    },
    "kernelspec": {
      "name": "python3",
      "display_name": "Python 3"
    },
    "language_info": {
      "name": "python"
    }
  },
  "cells": [
    {
      "cell_type": "markdown",
      "metadata": {
        "id": "view-in-github",
        "colab_type": "text"
      },
      "source": [
        "<a href=\"https://colab.research.google.com/github/shareliu/introduction-to-Computers/blob/main/0509.ipynb\" target=\"_parent\"><img src=\"https://colab.research.google.com/assets/colab-badge.svg\" alt=\"Open In Colab\"/></a>"
      ]
    },
    {
      "cell_type": "code",
      "execution_count": 1,
      "metadata": {
        "colab": {
          "base_uri": "https://localhost:8080/"
        },
        "id": "_59807qNYR9x",
        "outputId": "a43371c9-d307-4950-d91b-fea1629d7beb"
      },
      "outputs": [
        {
          "output_type": "stream",
          "name": "stdout",
          "text": [
            "123\n"
          ]
        }
      ],
      "source": [
        "print(\"123\")"
      ]
    },
    {
      "cell_type": "code",
      "source": [
        "temp=float(input(\"請輸入你的體溫\"))\n",
        "if temp >=37.5:\n",
        "    print(\"體溫過高！\")\n",
        "elif temp >= 37 and temp <37.4:\n",
        "    print(\"體溫略高！\")\n",
        "else:\n",
        "    print(\"體溫異常，請重新測量！\")  "
      ],
      "metadata": {
        "colab": {
          "base_uri": "https://localhost:8080/"
        },
        "id": "MVdkMB3TYaLP",
        "outputId": "6a636071-1408-40fd-9e64-113c400247f2"
      },
      "execution_count": 4,
      "outputs": [
        {
          "output_type": "stream",
          "name": "stdout",
          "text": [
            "請輸入你的體溫36\n",
            "體溫異常，請重新測量！\n"
          ]
        }
      ]
    },
    {
      "cell_type": "code",
      "source": [
        "grade=float(input(\"請輸入你的成績\"))\n",
        "if grade >=90:\n",
        "    print(\"A\")\n",
        "elif grade >= 80 and grade < 89:\n",
        "    print(\"b\")\n",
        "elif grade >= 70 and grade < 79:\n",
        "    print(\"C\")\n",
        "elif grade >= 60 and grade < 69:\n",
        "    print(\"D\")\n",
        "else:\n",
        "    print(\"E\")  "
      ],
      "metadata": {
        "colab": {
          "base_uri": "https://localhost:8080/"
        },
        "id": "wpK6APmCZsMY",
        "outputId": "1b51bbb3-357b-4980-856f-d2e2e38983dc"
      },
      "execution_count": 6,
      "outputs": [
        {
          "output_type": "stream",
          "name": "stdout",
          "text": [
            "請輸入你的成績90\n",
            "A\n"
          ]
        }
      ]
    },
    {
      "cell_type": "code",
      "source": [
        "money=int(input(\"請輸入購物金額\"))\n",
        "if (money >= 10000):\n",
        "  if(money >= 100000):\n",
        "    print(\"八折\",money*0.8, end = \"元\\n\")\n",
        "  elif(money >= 50000):\n",
        "    print(\"八五折\",money*0.85, end = \"元\\n\")\n",
        "  elif(money >= 10000):\n",
        "    print(\"九折\",money*0.9, end = \"元\\n\")\n",
        "else:\n",
        "  print(\"沒打折\",money, end = \"元\\n1\")    "
      ],
      "metadata": {
        "colab": {
          "base_uri": "https://localhost:8080/"
        },
        "id": "f7xRDfsja15R",
        "outputId": "4104d03f-9338-4a1f-aa95-58c5dc7dff70"
      },
      "execution_count": 8,
      "outputs": [
        {
          "output_type": "stream",
          "name": "stdout",
          "text": [
            "請輸入購物金額50000\n",
            "八五折 42500.0元\n"
          ]
        }
      ]
    },
    {
      "cell_type": "code",
      "source": [
        "season=int(input(\"請輸入月份\"))\n",
        "if season >= 3 and season <= 5:\n",
        "  print(\"春天！\")\n",
        "elif season >= 6 and season <= 8:\n",
        "  print(\"夏天！\")\n",
        "elif season >= 9 and season <= 11:\n",
        "  print(\"秋天！\")\n",
        "elif season >= 1 or season >= 2 or season <= 12:\n",
        "  print(\"冬天！\")\n",
        "else:\n",
        "  print(\"不在此範圍內!\")"
      ],
      "metadata": {
        "colab": {
          "base_uri": "https://localhost:8080/"
        },
        "id": "khwElws1csME",
        "outputId": "217c3db8-bf4b-491f-e898-aec2d5c38e2b"
      },
      "execution_count": 11,
      "outputs": [
        {
          "output_type": "stream",
          "name": "stdout",
          "text": [
            "請輸入月份2\n",
            "冬天！\n"
          ]
        }
      ]
    },
    {
      "cell_type": "code",
      "source": [
        "tax=int(input(\"請輸入收入\"))\n",
        "if(tax >= 2000000):\n",
        "    print(\"稅率為0.3\",tax*0.3, end = \"元\\n\")\n",
        "elif(tax >= 1000000):\n",
        "    print(\"稅率為0.21\",tax*0.21, end = \"元\\n\")\n",
        "elif(tax >= 600000):\n",
        "    print(\"稅率為0.13\",tax*0.13, end = \"元\\n\")\n",
        "elif(tax >= 300000):\n",
        "    print(\"稅率為0.06\",tax*0.06, end = \"元\\n\")\n",
        "else:\n",
        "    print(\"不用繳稅\",tax*0, end = \"元\\n\")"
      ],
      "metadata": {
        "colab": {
          "base_uri": "https://localhost:8080/"
        },
        "id": "DRkxq0AieXa2",
        "outputId": "7bd34dcb-2b79-41f8-9265-b339ed70d471"
      },
      "execution_count": 13,
      "outputs": [
        {
          "output_type": "stream",
          "name": "stdout",
          "text": [
            "請輸入收入2000000\n",
            "稅率為0.3 600000.0元\n"
          ]
        }
      ]
    },
    {
      "cell_type": "code",
      "source": [
        ""
      ],
      "metadata": {
        "id": "-4xbLuyzgTDr"
      },
      "execution_count": null,
      "outputs": []
    }
  ]
}